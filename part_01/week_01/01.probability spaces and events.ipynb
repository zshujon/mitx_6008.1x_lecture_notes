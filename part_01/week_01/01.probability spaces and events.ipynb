{
 "cells": [
  {
   "cell_type": "markdown",
   "metadata": {},
   "source": [
    "# Probability Spaces and Events\n",
    "\n",
    "## Two Ingredients to Modeling Uncertainty (Course Notes)\n",
    "\n",
    "When we think of an uncertain world, we will always think of there being some underlying experiment of interest. To model this uncertain world, it suffices to keep track of two things:\n",
    "\n",
    "The set of all possible outcomes for the experiment: this set is called the sample space and is usually denoted by the Greek letter Omega $\\Omega$.\n",
    "(For the fair coin flip, there are exactly two possible outcomes: heads, tails. Thus, $\\Omega = \\{heads, tails\\}$.)\n",
    "\n",
    "The probability of each outcome: for each possible outcome, assign a probability that is at least 0 and at most 1.\n",
    "(For the fair coin flip, $\\mathbb{P}(heads) = 1/2$  and $\\mathbb{P}(tails) = 1/2$.)\n",
    "\n",
    "Notation: Throughout this course, for any statement , “\" denotes the probability of  happening.\n",
    "\n",
    "In Python:"
   ]
  },
  {
   "cell_type": "code",
   "execution_count": 4,
   "metadata": {},
   "outputs": [
    {
     "data": {
      "text/plain": [
       "{'heads': 0.5, 'tails': 0.5}"
      ]
     },
     "execution_count": 4,
     "metadata": {},
     "output_type": "execute_result"
    }
   ],
   "source": [
    "model = {'heads': 1/2, 'tails': 1/2}\n",
    "\n",
    "model"
   ]
  },
  {
   "cell_type": "markdown",
   "metadata": {},
   "source": [
    "In particular, we see that we can model uncertainty in code using a Python dictionary. The sample space is precisely the keys in the dictionary:"
   ]
  },
  {
   "cell_type": "code",
   "execution_count": 3,
   "metadata": {},
   "outputs": [
    {
     "data": {
      "text/plain": [
       "{'heads', 'tails'}"
      ]
     },
     "execution_count": 3,
     "metadata": {},
     "output_type": "execute_result"
    }
   ],
   "source": [
    "sample_space = set(model.keys())\n",
    "\n",
    "sample_space"
   ]
  },
  {
   "cell_type": "markdown",
   "metadata": {},
   "source": [
    "Of course, the dictionary gives us the assignment of probabilities, meaning that for each outcome in the sample space (i.e., for each key in the dictionary), we have an assigned probability:"
   ]
  },
  {
   "cell_type": "code",
   "execution_count": 5,
   "metadata": {},
   "outputs": [
    {
     "data": {
      "text/plain": [
       "0.5"
      ]
     },
     "execution_count": 5,
     "metadata": {},
     "output_type": "execute_result"
    }
   ],
   "source": [
    "model['heads']"
   ]
  },
  {
   "cell_type": "code",
   "execution_count": 6,
   "metadata": {},
   "outputs": [
    {
     "data": {
      "text/plain": [
       "0.5"
      ]
     },
     "execution_count": 6,
     "metadata": {},
     "output_type": "execute_result"
    }
   ],
   "source": [
    "model['tails']"
   ]
  },
  {
   "cell_type": "markdown",
   "metadata": {},
   "source": [
    "A few important remarks:\n",
    "\n",
    "- The sample space is always specified to be collectively exhaustive, meaning that every possible outcome is in it, and mutually exclusive, meaning that once the experiment is run (e.g., flipping the fair coin), exactly one possible outcome in the sample space happens. It's impossible for multiple outcomes in the sample space to simultaneously happen! It's also impossible for none of the outcomes to happen!\n",
    "\n",
    "- Probabilities can be thought of as fractions of times outcomes occur; thus, probabilities are nonnegative and at least 0 and at most 1.\n",
    "\n",
    "- If we add up the probabilities of all the possible outcomes in the sample space, we get 1.\n",
    "(For the fair coin flip, $\\mathbb{P}(heads) + \\mathbb{P}(tails) = 1/2 + 1/2 = 1$.)\n",
    "\n",
    "Some intuition for this: Consider the coin flipping experiment. What does the fraction of times heads occur and the fraction of times tails occur add up to? Since these are the only two possible outcomes (and again, recall that these outcomes are exclusive in that they can't simultaneously occur, and exhaustive since they are the only possible outcomes), these two fractions will always sum to 1. For a massive number of repeats of the experiment, these two fractions correspond to $\\mathbb{P}(heads)$ and $\\mathbb{P}(tails)$; the fractions sum to 1 and so these probabilities also sum to 1."
   ]
  },
  {
   "cell_type": "markdown",
   "metadata": {},
   "source": [
    "## Probability Spaces\n",
    "\n",
    "At this point, we've actually already seen the most basic data structure used throughout this course for modeling uncertainty, called a finite probability space (in this course, we'll often also just call this either a probability space or a probability model):\n",
    "\n",
    "A finite probability space consists of two ingredients:\n",
    "\n",
    "- a sample space $\\Omega$ consisting of a finite (i.e., not infinite) number of collectively exhaustive and mutually exclusive possible outcomes\n",
    "\n",
    "- an assignment of probabilities: for each possible outcome $\\omega \\in \\Omega$, we assign a probability $\\mathbb{P}(outcome \\ \\omega)$ at least 0 and at most 1, where we require that the probabilities across all the possible outcomes in the sample space add up to 1: $$\\sum_{\\omega \\in \\Omega} \\mathbb{P}(outcome \\ \\omega) = 1$$\n",
    "\n",
    " \n",
    "__Notation__: As shorthand we occasionally use the tuple “($\\Omega, \\mathbb{P}$)\" to refer to a finite probability space to remind ourselves of the two ingredients needed, sample space $\\Omega$ and an assignment of probabilities $\\mathbb{P}$. As we already saw, in code these two pieces can be represented together in a single Python dictionary. However, when we want to reason about probability spaces in terms of the mathematics, it's helpful to have names for the two pieces.\n",
    "\n",
    "__Why finite__? Of the two pieces making up a finite probability space ($\\Omega, \\mathbb{P}$), the sample space $\\Omega$ being finite is a fairly natural constraint, corresponding to how we typically work with Python dictionaries where there is only a finite number of keys. As we'll see, finite probability spaces are already extremely useful in practice. Pedagogically, finite probability spaces also provide a great intro to probability theory as they already carry a wealth of intuition, much of which carries over to a more complete story of general probability spaces!"
   ]
  },
  {
   "cell_type": "markdown",
   "metadata": {},
   "source": [
    "## Table Representation\n",
    "\n",
    "A probability space is a data structure in that we can always visualize as a table of nonnegative entries that sum to 1. Let's see a concrete example of this, first writing the table out on paper and then coding it up.\n",
    "\n",
    "Example: Suppose we have a model of tomorrow's weather given as follows: sunny with probability 1/2, rainy with probability 1/6, and snowy with probability 1/3. Here's the probability space, shown as a table:\n",
    "\n",
    "|Outcome|Probability|\n",
    "|-------|-----------|\n",
    "|sunny  |   1/2     |\n",
    "|rainy  |   1/6     |\n",
    "|snowy  |   1/3     |\n",
    "\n",
    "Note: This a table of 3 nonnegative entries that sum to 1. The rows correspond to the sample space .\n",
    "\n",
    "We will often use this table representation of a probability space to tell you how we're modeling uncertainty for a particular problem. It provides the simplest of visualizations of a probability space.\n",
    "\n",
    "Of course, in Python code, the above probability space is given by:"
   ]
  },
  {
   "cell_type": "code",
   "execution_count": 7,
   "metadata": {},
   "outputs": [
    {
     "data": {
      "text/plain": [
       "{'sunny': 0.5, 'rainy': 0.16666666666666666, 'snowy': 0.3333333333333333}"
      ]
     },
     "execution_count": 7,
     "metadata": {},
     "output_type": "execute_result"
    }
   ],
   "source": [
    "prob_space = {'sunny': 1/2, 'rainy': 1/6, 'snowy': 1/3}\n",
    "\n",
    "prob_space"
   ]
  },
  {
   "cell_type": "markdown",
   "metadata": {},
   "source": [
    "A different way to code up the same probability space is to separately specify the outcomes (i.e., the sample space) and the probabilities:"
   ]
  },
  {
   "cell_type": "code",
   "execution_count": 9,
   "metadata": {},
   "outputs": [],
   "source": [
    "import numpy as np\n",
    "\n",
    "outcomes = ['sunny', 'rainy', 'snowy']\n",
    "probabilities = np.array([1/2, 1/6, 1/3])"
   ]
  },
  {
   "cell_type": "markdown",
   "metadata": {},
   "source": [
    "The i-th entry of outcomes has probability given by the i-th entry of `probabilities`. Note that `probabilities` is a vector of numbers that we represent as a Numpy array. Numpy has various built-in methods that enable us to easily work with vectors (and more generally arrays) of numbers."
   ]
  },
  {
   "cell_type": "markdown",
   "metadata": {},
   "source": [
    "## Addendum: More on Sample Spaces\n",
    "\n",
    "In the video, we saw that a sample space encoding the outcomes of 2 coin flips encodes all the information for 1 coin flip as well. Thus, we could use the same sample space to model a single coin flip. However, if we really only cared about a single coin flip, then a sample space encoding 2 coin flips is richer than we actually need it to be!\n",
    "\n",
    "When we model some uncertain situation, how we specify a sample space is not unique. We saw an example of this already in an earlier exercise where for rolling a single six-sided die, we can choose to name the outcomes differently, saying for instance \"roll 1\" instead of \"1\". We could even add a bunch of extraneous outcomes that all have probability 0. We could add extraneous information that doesn't matter such as \"Alice rolls 1\", \"Bob rolls 1\", etc where we enumerate out all the people who could roll the die in which the outcome is a 1. Sure, depending on the problem we are trying to solve, maybe knowing who rolled the die is important, but if we don't care about who rolled the die, then the information isn't helpful but it's still possible to include this information in the sample space.\n",
    "\n",
    "Generally speaking it's best to choose a sample space that is as simple as possible for modeling what we care about solving. For example, if we were rolling a six-sided die, and we actually only care about whether the face shows up at least 4 or not, then it's sufficient to just keep track of two outcomes, \"at least 4\" and \"less than 4\"."
   ]
  },
  {
   "cell_type": "markdown",
   "metadata": {},
   "source": [
    "## Addendum: Code for Dealing with Sets in Python\n",
    "\n",
    "In the video, the set operations can actually be implemented in Python as follows:"
   ]
  },
  {
   "cell_type": "code",
   "execution_count": 12,
   "metadata": {},
   "outputs": [
    {
     "data": {
      "text/plain": [
       "({'HT', 'TT'}, {'HH', 'HT', 'TH'}, {'HH'})"
      ]
     },
     "execution_count": 12,
     "metadata": {},
     "output_type": "execute_result"
    }
   ],
   "source": [
    "sample_space = {'HH', 'HT', 'TH', 'TT'}\n",
    "A = {'HT', 'TT'}\n",
    "B = {'HH', 'HT', 'TH'}\n",
    "C = {'HH'}\n",
    "\n",
    "A, B, C"
   ]
  },
  {
   "cell_type": "code",
   "execution_count": 15,
   "metadata": {},
   "outputs": [
    {
     "data": {
      "text/plain": [
       "({'HT'}, {'HH', 'HT', 'TT'}, {'TT'})"
      ]
     },
     "execution_count": 15,
     "metadata": {},
     "output_type": "execute_result"
    }
   ],
   "source": [
    "A_intersect_B = A.intersection(B)                   # equivalent to \"B.intersection(A)\" or \"A & B\"\n",
    "A_union_C = A.union(C)                              # equivalent to \"C.union(A)\" and also \"A | C\"\n",
    "B_complement = sample_space.difference(B)           # equivalent also to \"sample_space - B\"\n",
    "\n",
    "A_intersect_B, A_union_C, B_complement"
   ]
  },
  {
   "cell_type": "markdown",
   "metadata": {},
   "source": [
    "## Addendum: Probabilities with Events and Code\n",
    "\n",
    "From the videos, we see that an event is a subset of the sample space $\\Omega$. If you remember our table representation for a probability space, then an event could be thought of as a subset of the rows, and the probability of the event is just the sum of the probability values in those rows!\n",
    "\n",
    "The probability of an event $\\mathcal{A} \\subseteq \\Omega$ is the sum of the probabilities of the possible outcomes in $\\mathcal{A}$:\n",
    "\n",
    "$$\\mathbb{P}(\\mathcal{A}) \\triangleq \\sum_{\\omega \\in \\Omega} \\mathbb{P}(outcomem \\ \\omega) = 1$$\n",
    "\n",
    " \n",
    "where “$\\triangleq$\" means “defined as\".\n",
    "\n",
    "We can translate the above equation into Python code. In particular, we can compute the probability of an event encoded as a Python set `event`, where the probability space is encoded as a Python dictionary `prob_space`:"
   ]
  },
  {
   "cell_type": "code",
   "execution_count": 16,
   "metadata": {},
   "outputs": [],
   "source": [
    "def prob_of_event(event, prob_space):\n",
    "    total = 0\n",
    "    for outcome in event:\n",
    "        total += prob_space[outcome]\n",
    "    return total"
   ]
  },
  {
   "cell_type": "markdown",
   "metadata": {},
   "source": [
    "Here's an example of how to use the above function:"
   ]
  },
  {
   "cell_type": "code",
   "execution_count": 17,
   "metadata": {},
   "outputs": [
    {
     "name": "stdout",
     "output_type": "stream",
     "text": [
      "0.5\n"
     ]
    }
   ],
   "source": [
    "prob_space = {'sunny': 1/2, 'rainy': 1/6, 'snowy': 1/3}\n",
    "rainy_or_snowy_event = {'rainy', 'snowy'}\n",
    "\n",
    "print(prob_of_event(rainy_or_snowy_event, prob_space))"
   ]
  },
  {
   "cell_type": "code",
   "execution_count": null,
   "metadata": {},
   "outputs": [],
   "source": []
  }
 ],
 "metadata": {
  "kernelspec": {
   "display_name": "Python 3",
   "language": "python",
   "name": "python3"
  },
  "language_info": {
   "codemirror_mode": {
    "name": "ipython",
    "version": 3
   },
   "file_extension": ".py",
   "mimetype": "text/x-python",
   "name": "python",
   "nbconvert_exporter": "python",
   "pygments_lexer": "ipython3",
   "version": "3.6.7"
  }
 },
 "nbformat": 4,
 "nbformat_minor": 2
}
