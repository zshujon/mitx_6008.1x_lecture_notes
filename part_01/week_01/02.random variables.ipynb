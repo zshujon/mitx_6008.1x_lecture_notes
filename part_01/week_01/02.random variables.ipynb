{
 "cells": [
  {
   "cell_type": "markdown",
   "metadata": {},
   "source": [
    "# Random Variables\n",
    "\n",
    "## A First Look at “Random Variables\"\n",
    "Follow along in an IPython prompt.\n",
    "\n",
    "We continue with our weather example."
   ]
  },
  {
   "cell_type": "code",
   "execution_count": 1,
   "metadata": {},
   "outputs": [
    {
     "data": {
      "text/plain": [
       "{'sunny': 0.5, 'rainy': 0.16666666666666666, 'snowy': 0.3333333333333333}"
      ]
     },
     "execution_count": 1,
     "metadata": {},
     "output_type": "execute_result"
    }
   ],
   "source": [
    "prob_space = {'sunny': 1/2, 'rainy': 1/6, 'snowy': 1/3}\n",
    "\n",
    "prob_space"
   ]
  },
  {
   "cell_type": "markdown",
   "metadata": {},
   "source": [
    "We can simulate tomorrow's weather using the above model of the world. Let's simulate two different values, one (which we'll call W for \"weather\") for whether tomorrow will be sunny, rainy, or snowy, and another (which we'll call I for “indicator\") that is 1 if it is sunny and 0 otherwise:"
   ]
  },
  {
   "cell_type": "code",
   "execution_count": 8,
   "metadata": {},
   "outputs": [
    {
     "data": {
      "text/plain": [
       "('sunny', 1)"
      ]
     },
     "execution_count": 8,
     "metadata": {},
     "output_type": "execute_result"
    }
   ],
   "source": [
    "import comp_prob_inference\n",
    "\n",
    "random_outcome = comp_prob_inference.sample_from_finite_probability_space(prob_space)\n",
    "W = random_outcome\n",
    "if random_outcome == 'sunny':\n",
    "     I = 1\n",
    "else:\n",
    "     I = 0\n",
    "\n",
    "W, I"
   ]
  },
  {
   "cell_type": "markdown",
   "metadata": {},
   "source": [
    "Print out the variables W or I to see that they take on specific values. Then re-run the above block of code a few times."
   ]
  },
  {
   "cell_type": "code",
   "execution_count": 9,
   "metadata": {},
   "outputs": [
    {
     "name": "stdout",
     "output_type": "stream",
     "text": [
      "rainy 0\n",
      "sunny 1\n",
      "snowy 0\n",
      "sunny 1\n",
      "snowy 0\n",
      "snowy 0\n",
      "snowy 0\n",
      "sunny 1\n",
      "snowy 0\n",
      "snowy 0\n"
     ]
    }
   ],
   "source": [
    "for _ in range(10):\n",
    "    random_outcome = comp_prob_inference.sample_from_finite_probability_space(prob_space)\n",
    "    W = random_outcome\n",
    "    if random_outcome == 'sunny':\n",
    "         I = 1\n",
    "    else:\n",
    "         I = 0\n",
    "\n",
    "    print(W, I)"
   ]
  },
  {
   "cell_type": "markdown",
   "metadata": {},
   "source": [
    "You should see that W and I change and are random (following the probabilities given by the probability space).\n",
    "\n",
    "This code shows something that's of key importance that we'll see throughout the course. Variables W and I store the values of what are called random variables."
   ]
  },
  {
   "cell_type": "markdown",
   "metadata": {},
   "source": [
    "## Random Variables\n",
    "\n",
    "To mathematically reason about a random variable, we need to somehow keep track of the full range of possibilities for what the random variable's value could be, and how probable different instantiations of the random variable are. The resulting formalism may at first seem a bit odd but as we progress through the course, it will become more apparent how this formalism helps us study real-world problems and address these problems with powerful solutions.\n",
    "\n",
    "To build up to the formalism, first note, computationally, what happened in the code in the previous part.\n",
    "\n",
    "1. First, there is an underlying probability space $(\\Omega, \\mathbb{P})$, where $\\Omega = \\{sunny, rainy, snowy\\}$, and \n",
    "\n",
    "$$\\mathbb{P}(sunny) = 1/2 $$ $$\\mathbb{P}(raniy) = 1/6 $$ $$\\mathbb{P}(snowy) = 1/3$$\n",
    "\n",
    "2. A random outcome $\\omega \\in \\Omega$ is sampled using the probabilities given by the probability space $(\\Omega, \\mathbb{P})$. This step corresponds to an underlying experiment happening.\n",
    "\n",
    "3. Two random variables are generated:\n",
    "    - $W$  is set to be equal to $\\Omega$. As an equation:\n",
    "    $$W(\\omega) = \\omega \\ for \\ all \\ \\omega \\in \\{sunny, rainy, snowy\\}$$\n",
    "    \n",
    "    This step perhaps seems entirely unnecessary, as you might wonder “Why not just call the random outcome $W$ instead of $\\omega$?\" Indeed, this step isn't actually necessary for this particular example, but the formalism for random variables has this step to deal with what happens when we encounter a random variable like $I$.\n",
    "\n",
    "    - $I$  is set to 1 if $\\omega = sunny$, and 0 otherwise. As an equation:\n",
    "$$\n",
    "I(\\omega) = \\left\\{\n",
    "        \\begin{array}{ll}\n",
    "            1, \\ if \\ \\omega = sunny \\\\\n",
    "            0, \\ if \\ \\omega = \\{rainy, snowy\\}\n",
    "        \\end{array}\n",
    "    \\right.\n",
    "$$\n",
    "Importantly, multiple possible outcomes (rainy or snowy) get mapped to the same value 0 that $I$ can take on.\n",
    "\n",
    "We see that random variable $W$ maps the sample space $\\Omega = \\{sunny, rainy, snowy\\}$ to the same set $\\{sunny, rainy, snowy\\}$. Meanwhile, random variable $I$ maps the sample space $\\Omega = \\{sunny, rainy, snowy\\}$ to the set $\\{0, 1\\}$.\n",
    "\n",
    "In general:\n",
    "\n",
    "__Definition of a “finite random variable\" (in this course, we will just call this a “random variable\")__: Given a finite probability space $(\\Omega, \\mathbb{P})$, a finite random variable $X$ is a mapping from the sample space $\\Omega$ to a set of values $\\mathcal{X}$ that random variable $X$ can take on. (We will often call $\\mathcal{X}$ the “alphabet\" of random variable $X$.)\n",
    "\n",
    "For example, random variable $W$ takes on values in the alphabet $\\{sunny, rainy, snowy\\}$, and random variable $I$ takes on values in the alphabet \\{0, 1\\}.\n",
    "\n",
    "__Quick summary__: There's an underlying experiment corresponding to probability space $(\\Omega, \\mathbb{P})$. Once the experiment is run, let $\\omega \\in \\Omega$ denote the outcome of the experiment. Then the random variable takes on the specific value of $X(\\omega) \\in \\mathcal{X}$.\n",
    "\n",
    "__Explanation using a picture__: Continuing with the weather example, we can pictorially see what's going on by looking at the probability tables for: the original probability space, the random variable $W$, and the random variable $I$:\n",
    "\n",
    "<img src=\"images_sec-random-variables-main.png\" height=\"600\" width=\"800\">\n",
    "\n",
    "These tables make it clear that a “random variable\" really is just reassigning/relabeling what the values are for the possible outcomes in the underlying probability space (given by the top left table):\n",
    "\n",
    "- In the top right table, random variable $W$ does not do any sort of relabeling so its probability table looks the same as that of the underlying probability space.\n",
    "\n",
    "- In the bottom left table, the random variable $I$ relabels/reassigns “sunny\" to 1, and both “rainy\" and “snowy\" to 0. Intuitively, since two of the rows now have the same label 0, it makes sense to just combine these two rows, adding their probabilities $(1/6 + 1/3 = 1/2)$. This results in the bottom right table.\n",
    "\n",
    "Technical note: Even though the formal definition of a finite random variable doesn't actually make use of the probability assignment $\\mathbb{P}$, the probability assignment will become essential as soon as we talk about how probability works with random variables.\n"
   ]
  },
  {
   "cell_type": "markdown",
   "metadata": {},
   "source": [
    "## Random Variables Notation and Terminology\n",
    "\n",
    "In this course, we denote random variables with capital/uppercase letters, such as $X$, $W$, $I$, etc. We use the phrases “probability table\", “probability mass function\" (abbreviated as PMF), and “probability distribution\" (often simply called a distribution) to mean the same thing, and in particular we denote the probability table for $X$ to be $\\mathcal{p}_X$ or $\\mathcal{p}_X(.)$.\n",
    "\n",
    "We write $\\mathcal{p}_X(x)$ to denote the entry of the probability table that has label $x \\in \\mathcal{X}$ where $\\mathcal{X}$ is the set of values that random variable $X$ takes on. Note that we use lowercase letters like $x$ to denote variables storing nonrandom values. We can also look up values in a probability table using specific outcomes, e.g., from earlier, we have $\\mathcal{p}_W(rainy) = 1/6$ and $\\mathcal{p}_I(1) = 1/2$.\n",
    "\n",
    "Note that we use the same notation as in math where a function $f$ might also be written as $f(.)$ to explicitly indicate that it is the function of one variable. Both $f$ and $f(.)$ refer to a function whereas $f(x)$ refers to the value of the function $f$ evaluated at the point $x$.\n",
    "\n",
    "As an example of how to use all this notation, recall that a probability table consists of nonnegative entries that add up to 1. In fact, each of the entries is at most 1 (otherwise the numbers would add to more than 1). For a random variable $X$ taking on values in $\\mathcal{X}$, we can write out these constraints as:\n",
    "\n",
    "$$0 \\leq \\mathcal{p}_X(x) \\leq 1 \\ for \\ all \\ x \\in \\mathcal{X},\\ \\sum_{x \\in \\mathcal{X}} \\mathcal{p}_X(x) = 1$$\n",
    "\n",
    " \n",
    "Often in the course, if we are making statements about all possible outcomes of $X$, we will omit writing out the alphabet $\\mathcal{X}$ explicitly. For example, instead of the above, we might write the following equivalent statement: $$0 \\leq \\mathcal{p}_X(x) \\leq 1 \\ for \\ all \\ x,\\ \\sum_{x} \\mathcal{p}_X(x) = 1$$\n",
    "\n"
   ]
  },
  {
   "cell_type": "markdown",
   "metadata": {},
   "source": [
    "$\\mathscr{X}$"
   ]
  },
  {
   "cell_type": "code",
   "execution_count": null,
   "metadata": {},
   "outputs": [],
   "source": [
    "\\mathcal{p}_"
   ]
  }
 ],
 "metadata": {
  "kernelspec": {
   "display_name": "Python 3",
   "language": "python",
   "name": "python3"
  },
  "language_info": {
   "codemirror_mode": {
    "name": "ipython",
    "version": 3
   },
   "file_extension": ".py",
   "mimetype": "text/x-python",
   "name": "python",
   "nbconvert_exporter": "python",
   "pygments_lexer": "ipython3",
   "version": "3.6.7"
  }
 },
 "nbformat": 4,
 "nbformat_minor": 2
}
